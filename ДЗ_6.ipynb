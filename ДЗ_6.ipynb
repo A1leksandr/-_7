{
 "cells": [
  {
   "cell_type": "code",
   "execution_count": 1,
   "id": "c8c10af7-2380-4497-a8ea-0789f8ccece7",
   "metadata": {},
   "outputs": [],
   "source": [
    "from flask import Flask, render_template_string\n",
    "import sqlite3\n",
    "import os"
   ]
  },
  {
   "cell_type": "code",
   "execution_count": null,
   "id": "556855d7-74fd-46d4-b718-d3e3e0b7cd12",
   "metadata": {},
   "outputs": [
    {
     "name": "stdout",
     "output_type": "stream",
     "text": [
      "[(1, 'Иван Иванович', 'Санки', 2000, 'куплен'), (2, 'Ирина Сергеевна', 'Цветы', 3000, 'не куплен'), (3, 'Алексей Петрович', 'Книга', 1500, 'куплен'), (4, 'Мария Ивановна', 'Часы', 7000, 'не куплен'), (5, 'Дмитрий Сергеевич', 'Игрушка', 1000, 'куплен'), (6, 'Светлана Николаевна', 'Шарф', 1200, 'куплен'), (7, 'Анастасия Павловна', 'Сумка', 8000, 'не куплен'), (8, 'Николай Алексеевич', 'Портфель', 4500, 'куплен'), (9, 'Ольга Викторовна', 'Парфюм', 5000, 'не куплен'), (10, 'Петр Андреевич', 'Ручка', 300, 'куплен'), (11, 'Иван Иванович', 'Санки', 2000, 'куплен'), (12, 'Ирина Сергеевна', 'Цветы', 3000, 'не куплен'), (13, 'Алексей Петрович', 'Книга', 1500, 'куплен'), (14, 'Мария Ивановна', 'Часы', 7000, 'не куплен'), (15, 'Дмитрий Сергеевич', 'Игрушка', 1000, 'куплен'), (16, 'Светлана Николаевна', 'Шарф', 1200, 'куплен'), (17, 'Анастасия Павловна', 'Сумка', 8000, 'не куплен'), (18, 'Николай Алексеевич', 'Портфель', 4500, 'куплен'), (19, 'Ольга Викторовна', 'Парфюм', 5000, 'не куплен'), (20, 'Петр Андреевич', 'Ручка', 300, 'куплен')]\n",
      " * Serving Flask app '__main__'\n",
      " * Debug mode: on\n"
     ]
    },
    {
     "name": "stderr",
     "output_type": "stream",
     "text": [
      "WARNING: This is a development server. Do not use it in a production deployment. Use a production WSGI server instead.\n",
      " * Running on http://127.0.0.1:5000\n",
      "Press CTRL+C to quit\n",
      "127.0.0.1 - - [24/Dec/2024 12:30:42] \"GET / HTTP/1.1\" 200 -\n",
      "127.0.0.1 - - [24/Dec/2024 12:30:42] \"GET /favicon.ico HTTP/1.1\" 404 -\n"
     ]
    }
   ],
   "source": [
    "def init_db():\n",
    "    if not os.path.exists('gifts.db'):\n",
    "        conn = sqlite3.connect('gifts.db')\n",
    "        cursor = conn.cursor()\n",
    "\n",
    "        cursor.execute('''CREATE TABLE IF NOT EXISTS gifts (\n",
    "                            id INTEGER PRIMARY KEY AUTOINCREMENT,\n",
    "                            name TEXT,\n",
    "                            gift TEXT,\n",
    "                            price INTEGER,\n",
    "                            status TEXT)''')\n",
    "\n",
    "        cursor.executemany('''INSERT INTO gifts (name, gift, price, status) VALUES (?, ?, ?, ?)''', [\n",
    "            (\"Иван Иванович\", \"Санки\", 2000, \"куплен\"),\n",
    "            (\"Ирина Сергеевна\", \"Цветы\", 3000, \"не куплен\"),\n",
    "            (\"Алексей Петрович\", \"Книга\", 1500, \"куплен\"),\n",
    "            (\"Мария Ивановна\", \"Часы\", 7000, \"не куплен\"),\n",
    "            (\"Дмитрий Сергеевич\", \"Игрушка\", 1000, \"куплен\"),\n",
    "            (\"Светлана Николаевна\", \"Шарф\", 1200, \"куплен\"),\n",
    "            (\"Анастасия Павловна\", \"Сумка\", 8000, \"не куплен\"),\n",
    "            (\"Николай Алексеевич\", \"Портфель\", 4500, \"куплен\"),\n",
    "            (\"Ольга Викторовна\", \"Парфюм\", 5000, \"не куплен\"),\n",
    "            (\"Петр Андреевич\", \"Ручка\", 300, \"куплен\")\n",
    "        ])\n",
    "\n",
    "        conn.commit()\n",
    "        conn.close()\n",
    "\n",
    "def check_data():\n",
    "    conn = sqlite3.connect('gifts.db')\n",
    "    cursor = conn.cursor()\n",
    "    cursor.execute(\"SELECT * FROM gifts\")\n",
    "    rows = cursor.fetchall()\n",
    "    conn.close()\n",
    "    return rows\n",
    "\n",
    "\n",
    "app = Flask(__name__)\n",
    "\n",
    "\n",
    "def get_data_from_db():\n",
    "    conn = sqlite3.connect('gifts.db')\n",
    "    cursor = conn.cursor()\n",
    "    cursor.execute(\"SELECT name, gift, price, status FROM gifts\")\n",
    "    data = cursor.fetchall()\n",
    "    conn.close()\n",
    "    return data\n",
    "\n",
    "@app.route('/')\n",
    "def index():\n",
    "    data = get_data_from_db()\n",
    "    html_template = '''\n",
    "    <!DOCTYPE html>\n",
    "    <html lang=\"en\">\n",
    "    <head>\n",
    "        <meta charset=\"UTF-8\">\n",
    "        <meta name=\"viewport\" content=\"width=device-width, initial-scale=1.0\">\n",
    "        <title>Список подарков</title>\n",
    "    </head>\n",
    "    <body>\n",
    "        <h1>Список подарков</h1>\n",
    "        <table border=\"1\" cellpadding=\"5\" cellspacing=\"0\">\n",
    "            <tr>\n",
    "                <th>ФИО</th>\n",
    "                <th>Подарок</th>\n",
    "                <th>Стоимость</th>\n",
    "                <th>Статус</th>\n",
    "            </tr>\n",
    "            {% for row in data %}\n",
    "            <tr>\n",
    "                <td>{{ row[0] }}</td>\n",
    "                <td>{{ row[1] }}</td>\n",
    "                <td>{{ row[2] }}</td>\n",
    "                <td>{{ row[3] }}</td>\n",
    "            </tr>\n",
    "            {% endfor %}\n",
    "        </table>\n",
    "    </body>\n",
    "    </html>\n",
    "    '''\n",
    "    return render_template_string(html_template, data=data)\n",
    "\n",
    "if __name__ == '__main__':\n",
    "    init_db() \n",
    "    print(check_data()) \n",
    "    app.run(debug=True, use_reloader=False)"
   ]
  }
 ],
 "metadata": {
  "kernelspec": {
   "display_name": "Python 3 (ipykernel)",
   "language": "python",
   "name": "python3"
  },
  "language_info": {
   "codemirror_mode": {
    "name": "ipython",
    "version": 3
   },
   "file_extension": ".py",
   "mimetype": "text/x-python",
   "name": "python",
   "nbconvert_exporter": "python",
   "pygments_lexer": "ipython3",
   "version": "3.12.4"
  }
 },
 "nbformat": 4,
 "nbformat_minor": 5
}
